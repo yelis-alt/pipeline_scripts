{
 "cells": [
  {
   "cell_type": "code",
   "execution_count": 3,
   "outputs": [],
   "source": [
    "import pandas as pd\n",
    "import numpy as np\n",
    "\n",
    "#Функция изъятия первых n слов\n",
    "def three_words(df, col, n):\n",
    "    new = df[col].str.split(' ')\n",
    "    new = new.str[0:n]\n",
    "    new = new.apply(lambda x: ' '.join(x))\n",
    "    return new\n",
    "\n",
    "plan = pd.read_excel('12.xlsx').replace(np.nan, ' ')\n",
    "plan['check'] = 0\n",
    "\n",
    "for i in range(plan.shape[0]):\n",
    "    for j in range(5):\n",
    "        if plan.iloc[i,j] == plan.iloc[i,5]:\n",
    "            plan.iloc[i,plan.shape[1]-1] = 1\n",
    "plan = plan[plan['check']==0]\n",
    "plan = plan.drop('check', axis = 1)\n",
    "plan = plan.reset_index(drop=True)\n",
    "plan['Декомпозиция_1'] = np.where(plan['Этап']==' ', 'Задачи договора', 'Этапы договора')\n",
    "plan['Документооборот'] = np.where((three_words(plan, 'Функция', 1)).str.isnumeric()==True,\n",
    "                                  plan['Функция'], ' ')\n",
    "plan['Функция'] = np.where(plan['Документооборот'] != ' ', ' ', plan['Функция'])\n",
    "plan['Декомпозиция_2'] = np.where(plan['Функция']==' ',\n",
    "                                  np.where(plan['Документооборот']!=' ', 'Документооборот', plan['Название задачи']),\n",
    "                                  'Функции')\n",
    "plan['Название задачи'] = np.where(plan['Название задачи'] == plan['Декомпозиция_2'], ' ', plan['Название задачи'])\n",
    "plan['Декомпозиция_3'] = np.where(plan['Декомпозиция_2'] == 'Функции', plan['Функция'],\n",
    "                                  np.where(plan['Декомпозиция_2'] == 'Документооборот', plan['Документооборот'], ' '))\n",
    "plan['Этап'] = np.where(plan['Декомпозиция_1']=='Задачи договора', plan['Декомпозиция_2'], plan['Этап'])\n",
    "plan['Декомпозиция_2'] = np.where(plan['Декомпозиция_2']==plan['Этап'], ' ', plan['Декомпозиция_2'])\n",
    "plan.to_html('14.html')"
   ],
   "metadata": {
    "collapsed": false
   }
  },
  {
   "cell_type": "code",
   "execution_count": 7,
   "outputs": [],
   "source": [
    "import pandas as pd\n",
    "import numpy as np\n",
    "import random\n",
    "from datetime import datetime\n",
    "\n",
    "# sample data\n",
    "np.random.seed(365)\n",
    "random.seed(365)\n",
    "data = {'a': [np.random.randint(10) for _ in range(25)],\n",
    "        'groups': [random.choice(['1-5', '6-25', '26-100', '100-500', '500-1000', '>1000']) for _ in range(25)],\n",
    "        'treatment': [random.choice(['Yes', 'No']) for _ in range(25)],\n",
    "        'date': pd.bdate_range(datetime.today(), freq='d', periods=25).tolist()}\n",
    "df = pd.DataFrame(data)\n",
    "\n",
    "# groupby and aggregate different features of different columns\n",
    "df.groupby(['groups', 'treatment']).agg({'a': 'mean', 'groups': 'count'}).reset_index(level='treatment')\n",
    "df.to_html('14s.html')"
   ],
   "metadata": {
    "collapsed": false
   }
  },
  {
   "cell_type": "code",
   "execution_count": 9,
   "outputs": [
    {
     "ename": "ModuleNotFoundError",
     "evalue": "No module named 'collapsiblepane'",
     "output_type": "error",
     "traceback": [
      "\u001B[1;31m---------------------------------------------------------------------------\u001B[0m",
      "\u001B[1;31mModuleNotFoundError\u001B[0m                       Traceback (most recent call last)",
      "\u001B[1;32m~\\AppData\\Local\\Temp\\ipykernel_14832\\4068786598.py\u001B[0m in \u001B[0;36m<module>\u001B[1;34m\u001B[0m\n\u001B[0;32m      5\u001B[0m \u001B[1;31m# Importing Collapsible Pane class that we have\u001B[0m\u001B[1;33m\u001B[0m\u001B[1;33m\u001B[0m\u001B[0m\n\u001B[0;32m      6\u001B[0m \u001B[1;31m# created in separate file\u001B[0m\u001B[1;33m\u001B[0m\u001B[1;33m\u001B[0m\u001B[0m\n\u001B[1;32m----> 7\u001B[1;33m \u001B[1;32mfrom\u001B[0m \u001B[0mcollapsiblepane\u001B[0m \u001B[1;32mimport\u001B[0m \u001B[0mCollapsiblePane\u001B[0m \u001B[1;32mas\u001B[0m \u001B[0mcp\u001B[0m\u001B[1;33m\u001B[0m\u001B[1;33m\u001B[0m\u001B[0m\n\u001B[0m\u001B[0;32m      8\u001B[0m \u001B[1;33m\u001B[0m\u001B[0m\n\u001B[0;32m      9\u001B[0m \u001B[1;31m# Making root window or parent window\u001B[0m\u001B[1;33m\u001B[0m\u001B[1;33m\u001B[0m\u001B[0m\n",
      "\u001B[1;31mModuleNotFoundError\u001B[0m: No module named 'collapsiblepane'"
     ]
    }
   ],
   "source": [
    "\n",
    "# Importing tkinter and ttk modules\n",
    "from tkinter import *\n",
    "from tkinter.ttk import *\n",
    "\n",
    "# Importing Collapsible Pane class that we have\n",
    "# created in separate file\n",
    "from collapsiblepane import CollapsiblePane as cp\n",
    "\n",
    "# Making root window or parent window\n",
    "root = Tk()\n",
    "root.geometry('200x200')\n",
    "\n",
    "# Creating Object of Collapsible Pane Container\n",
    "# If we do not pass these strings in\n",
    "# parameter the default strings will appear\n",
    "# on button that were, expand >>, collapse <<\n",
    "cpane = cp(root, 'Expanded', 'Collapsed')\n",
    "cpane.grid(row = 0, column = 0)\n",
    "\n",
    "# Button and checkbutton, these will\n",
    "# appear in collapsible pane container\n",
    "b1 = Button(cpane.frame, text =\"GFG\").grid(\n",
    "            row = 1, column = 2, pady = 10)\n",
    "\n",
    "cb1 = Checkbutton(cpane.frame, text =\"GFG\").grid(\n",
    "                  row = 2, column = 3, pady = 10)\n",
    "\n",
    "mainloop()"
   ],
   "metadata": {
    "collapsed": false
   }
  },
  {
   "cell_type": "code",
   "execution_count": 11,
   "outputs": [
    {
     "name": "stdout",
     "output_type": "stream",
     "text": [
      "Requirement already satisfied: pip in c:\\users\\eliseev-ae\\anaconda3\\lib\\site-packages (22.2.2)\n"
     ]
    },
    {
     "ename": "ModuleNotFoundError",
     "evalue": "No module named 'dash'",
     "output_type": "error",
     "traceback": [
      "\u001B[1;31m---------------------------------------------------------------------------\u001B[0m",
      "\u001B[1;31mModuleNotFoundError\u001B[0m                       Traceback (most recent call last)",
      "\u001B[1;32m~\\AppData\\Local\\Temp\\ipykernel_14832\\522273640.py\u001B[0m in \u001B[0;36m<module>\u001B[1;34m\u001B[0m\n\u001B[0;32m      1\u001B[0m \u001B[1;32mimport\u001B[0m \u001B[0mpandas\u001B[0m \u001B[1;32mas\u001B[0m \u001B[0mpd\u001B[0m\u001B[1;33m\u001B[0m\u001B[1;33m\u001B[0m\u001B[0m\n\u001B[0;32m      2\u001B[0m \u001B[0mget_ipython\u001B[0m\u001B[1;33m(\u001B[0m\u001B[1;33m)\u001B[0m\u001B[1;33m.\u001B[0m\u001B[0msystem\u001B[0m\u001B[1;33m(\u001B[0m\u001B[1;34m'pip install pip'\u001B[0m\u001B[1;33m)\u001B[0m\u001B[1;33m\u001B[0m\u001B[1;33m\u001B[0m\u001B[0m\n\u001B[1;32m----> 3\u001B[1;33m \u001B[1;32mimport\u001B[0m \u001B[0mdash\u001B[0m\u001B[1;33m\u001B[0m\u001B[1;33m\u001B[0m\u001B[0m\n\u001B[0m\u001B[0;32m      4\u001B[0m \u001B[0mget_ipython\u001B[0m\u001B[1;33m(\u001B[0m\u001B[1;33m)\u001B[0m\u001B[1;33m.\u001B[0m\u001B[0msystem\u001B[0m\u001B[1;33m(\u001B[0m\u001B[1;34m'pip install dash_table'\u001B[0m\u001B[1;33m)\u001B[0m\u001B[1;33m\u001B[0m\u001B[1;33m\u001B[0m\u001B[0m\n\u001B[0;32m      5\u001B[0m \u001B[1;32mimport\u001B[0m \u001B[0mdash_table\u001B[0m\u001B[1;33m\u001B[0m\u001B[1;33m\u001B[0m\u001B[0m\n",
      "\u001B[1;31mModuleNotFoundError\u001B[0m: No module named 'dash'"
     ]
    }
   ],
   "source": [
    "import pandas as pd\n",
    "!pip install pip\n",
    "import dash\n",
    "!pip install dash_table\n",
    "import dash_table\n",
    "\n",
    "data = [['car', 'ford', 'focus', 10],\n",
    "        ['car', 'bmw', 'm3', 2],\n",
    "        ['car', 'bmw', 'i3',  2],\n",
    "        ['motorcycle', 'yamaha', 'td2', 3]\n",
    "        ]\n",
    "\n",
    "df = pd.DataFrame(data=data, columns=['vehicle', 'manufacturer', 'model', 'sold'])\n",
    "\n",
    "app = dash.Dash(__name__)\n",
    "\n",
    "app.layout = dash_table.DataTable(\n",
    "    id='table',\n",
    "    columns=[{\"name\": i, \"id\": i} for i in df.columns],\n",
    "    data=df.to_dict('records'),\n",
    ")\n",
    "\n",
    "if __name__ == '__main__':\n",
    "    app.run_server(debug=False, port=myport, host=myip)"
   ],
   "metadata": {
    "collapsed": false
   }
  },
  {
   "cell_type": "code",
   "execution_count": null,
   "outputs": [],
   "source": [],
   "metadata": {
    "collapsed": false
   }
  }
 ],
 "metadata": {
  "kernelspec": {
   "display_name": "Python 3",
   "language": "python",
   "name": "python3"
  },
  "language_info": {
   "codemirror_mode": {
    "name": "ipython",
    "version": 2
   },
   "file_extension": ".py",
   "mimetype": "text/x-python",
   "name": "python",
   "nbconvert_exporter": "python",
   "pygments_lexer": "ipython2",
   "version": "2.7.6"
  }
 },
 "nbformat": 4,
 "nbformat_minor": 0
}
