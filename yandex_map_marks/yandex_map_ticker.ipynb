{
 "cells": [
  {
   "cell_type": "code",
   "execution_count": 34,
   "metadata": {
    "collapsed": true
   },
   "outputs": [],
   "source": [
    "#Библиотеки\n",
    "from selenium.webdriver.support import expected_conditions as EC\n",
    "from selenium.webdriver.support.wait import WebDriverWait\n",
    "from selenium.webdriver.chrome.service import Service\n",
    "from selenium.webdriver.common.by import By\n",
    "from selenium import webdriver\n",
    "import pyperclip\n",
    "import pyautogui\n",
    "import time\n",
    "import os"
   ]
  },
  {
   "cell_type": "code",
   "execution_count": 41,
   "outputs": [],
   "source": [
    "#Функуция ожидания появления элемента\n",
    "class web_rpa():\n",
    "    def waitForLoad(self, inputXPath):\n",
    "        Wait = WebDriverWait(driver, 120)\n",
    "        Wait.until(EC.element_to_be_clickable((By.XPATH, inputXPath)))\n",
    "\n",
    "#Формирование драйвера\n",
    "options = webdriver.ChromeOptions()\n",
    "codec = Service('../yandexdriver.exe')\n",
    "driver = webdriver.Chrome(service = codec, options=options)"
   ],
   "metadata": {
    "collapsed": false
   }
  },
  {
   "cell_type": "code",
   "execution_count": 36,
   "outputs": [
    {
     "name": "stdout",
     "output_type": "stream",
     "text": [
      "C://Users//eliseev-ae//Desktop//Projects//rpa//rpa_silenium//yandex_map_marks//zas.xlsx\n"
     ]
    },
    {
     "ename": "TypeError",
     "evalue": "waitForLoad() takes 1 positional argument but 2 were given",
     "output_type": "error",
     "traceback": [
      "\u001B[1;31m---------------------------------------------------------------------------\u001B[0m",
      "\u001B[1;31mTypeError\u001B[0m                                 Traceback (most recent call last)",
      "\u001B[1;32m~\\AppData\\Local\\Temp\\ipykernel_4176\\1059907920.py\u001B[0m in \u001B[0;36m<module>\u001B[1;34m\u001B[0m\n\u001B[0;32m      9\u001B[0m \u001B[0mopen_button\u001B[0m\u001B[1;33m.\u001B[0m\u001B[0mclick\u001B[0m\u001B[1;33m(\u001B[0m\u001B[1;33m)\u001B[0m\u001B[1;33m\u001B[0m\u001B[1;33m\u001B[0m\u001B[0m\n\u001B[0;32m     10\u001B[0m \u001B[0mwaited_element\u001B[0m \u001B[1;33m=\u001B[0m \u001B[1;34m'//span[@class=\"button__text\" and text()=\"Выбрать файл\"]'\u001B[0m\u001B[1;33m\u001B[0m\u001B[1;33m\u001B[0m\u001B[0m\n\u001B[1;32m---> 11\u001B[1;33m \u001B[0mweb_rpa\u001B[0m\u001B[1;33m(\u001B[0m\u001B[1;33m)\u001B[0m\u001B[1;33m.\u001B[0m\u001B[0mwaitForLoad\u001B[0m\u001B[1;33m(\u001B[0m\u001B[0mwaited_element\u001B[0m\u001B[1;33m)\u001B[0m\u001B[1;33m\u001B[0m\u001B[1;33m\u001B[0m\u001B[0m\n\u001B[0m\u001B[0;32m     12\u001B[0m \u001B[1;33m\u001B[0m\u001B[0m\n\u001B[0;32m     13\u001B[0m \u001B[0mchoice_button\u001B[0m \u001B[1;33m=\u001B[0m \u001B[0mdriver\u001B[0m\u001B[1;33m.\u001B[0m\u001B[0mfind_element\u001B[0m\u001B[1;33m(\u001B[0m\u001B[1;34m'xpath'\u001B[0m\u001B[1;33m,\u001B[0m \u001B[0mwaited_element\u001B[0m\u001B[1;33m)\u001B[0m\u001B[1;33m\u001B[0m\u001B[1;33m\u001B[0m\u001B[0m\n",
      "\u001B[1;31mTypeError\u001B[0m: waitForLoad() takes 1 positional argument but 2 were given"
     ]
    }
   ],
   "source": [
    "#Подготовка к действиям\n",
    "url = 'https://yandex.ru/map-constructor'\n",
    "path = os.path.abspath(\"./zas.xlsx\").replace('\\x5c', '//')\n",
    "print(path)\n",
    "url = 'https://yandex.ru/map-constructor'\n",
    "driver.get(url)\n",
    "\n",
    "open_button = driver.find_element('xpath', '//span[@class=\"button__text\" and text()=\"Открыть карту\"]')\n",
    "open_button.click()\n",
    "waited_element = '//span[@class=\"button__text\" and text()=\"Выбрать файл\"]'\n",
    "web_rpa().waitForLoad(waited_element)\n",
    "\n",
    "choice_button = driver.find_element('xpath', waited_element)\n",
    "choice_button.click()\n",
    "\n",
    "pyperclip.copy(path)\n",
    "pyperclip.paste()\n",
    "pyautogui.press('enter')\n",
    "time.sleep(3)"
   ],
   "metadata": {
    "collapsed": false
   }
  },
  {
   "cell_type": "code",
   "execution_count": 42,
   "outputs": [
    {
     "name": "stdout",
     "output_type": "stream",
     "text": [
      "fddf\n"
     ]
    }
   ],
   "source": [],
   "metadata": {
    "collapsed": false
   }
  }
 ],
 "metadata": {
  "kernelspec": {
   "display_name": "Python 3",
   "language": "python",
   "name": "python3"
  },
  "language_info": {
   "codemirror_mode": {
    "name": "ipython",
    "version": 2
   },
   "file_extension": ".py",
   "mimetype": "text/x-python",
   "name": "python",
   "nbconvert_exporter": "python",
   "pygments_lexer": "ipython2",
   "version": "2.7.6"
  }
 },
 "nbformat": 4,
 "nbformat_minor": 0
}
