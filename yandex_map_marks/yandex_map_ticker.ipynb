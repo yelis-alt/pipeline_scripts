{
 "cells": [
  {
   "cell_type": "code",
   "execution_count": 43,
   "metadata": {
    "collapsed": true
   },
   "outputs": [],
   "source": [
    "#Библиотеки\n",
    "from selenium.webdriver.support import expected_conditions as EC\n",
    "from selenium.webdriver.support.wait import WebDriverWait\n",
    "from selenium.webdriver.chrome.service import Service\n",
    "from selenium.webdriver.common.by import By\n",
    "from selenium import webdriver\n",
    "import pyperclip\n",
    "import pyautogui\n",
    "import time\n",
    "import os"
   ]
  },
  {
   "cell_type": "code",
   "execution_count": 44,
   "outputs": [],
   "source": [
    "class web_rpa():\n",
    "    #Функуция ожидания появления элемента\n",
    "    def waitForLoad(self, inputXPath):\n",
    "        Wait = WebDriverWait(driver, 120)\n",
    "        Wait.until(EC.element_to_be_clickable((By.XPATH, inputXPath)))\n",
    "\n",
    "#Формирование драйвера\n",
    "options = webdriver.ChromeOptions()\n",
    "codec = Service('../yandexdriver.exe')\n",
    "driver = webdriver.Chrome(service = codec, options=options)"
   ],
   "metadata": {
    "collapsed": false
   }
  },
  {
   "cell_type": "code",
   "execution_count": 45,
   "outputs": [
    {
     "ename": "TimeoutException",
     "evalue": "Message: \nStacktrace:\nBacktrace:\n\tOrdinal0 [0x00685A13+2251283]\n\tOrdinal0 [0x0061C0B1+1818801]\n\tOrdinal0 [0x00526E4D+814669]\n\tOrdinal0 [0x0055528F+1004175]\n\tOrdinal0 [0x0055547B+1004667]\n\tOrdinal0 [0x00587982+1210754]\n\tOrdinal0 [0x00571C54+1121364]\n\tOrdinal0 [0x00585D5A+1203546]\n\tOrdinal0 [0x00571A26+1120806]\n\tOrdinal0 [0x0054A3DB+959451]\n\tOrdinal0 [0x0054B42F+963631]\n\tGetHandleVerifier [0x00979942+3046962]\n\tGetHandleVerifier [0x00965690+2964352]\n\tGetHandleVerifier [0x0070CAAA+503706]\n\tGetHandleVerifier [0x0070BB50+499776]\n\tOrdinal0 [0x0062319C+1847708]\n\tOrdinal0 [0x006282F8+1868536]\n\tOrdinal0 [0x006283E5+1868773]\n\tOrdinal0 [0x006313EB+1905643]\n\tBaseThreadInitThunk [0x7597FA29+25]\n\tRtlGetAppContainerNamedObjectPath [0x774E7A9E+286]\n\tRtlGetAppContainerNamedObjectPath [0x774E7A6E+238]\n",
     "output_type": "error",
     "traceback": [
      "\u001B[1;31m---------------------------------------------------------------------------\u001B[0m",
      "\u001B[1;31mTimeoutException\u001B[0m                          Traceback (most recent call last)",
      "\u001B[1;32m~\\AppData\\Local\\Temp\\ipykernel_4176\\1059907920.py\u001B[0m in \u001B[0;36m<module>\u001B[1;34m\u001B[0m\n\u001B[0;32m      9\u001B[0m \u001B[0mopen_button\u001B[0m\u001B[1;33m.\u001B[0m\u001B[0mclick\u001B[0m\u001B[1;33m(\u001B[0m\u001B[1;33m)\u001B[0m\u001B[1;33m\u001B[0m\u001B[1;33m\u001B[0m\u001B[0m\n\u001B[0;32m     10\u001B[0m \u001B[0mwaited_element\u001B[0m \u001B[1;33m=\u001B[0m \u001B[1;34m'//span[@class=\"button__text\" and text()=\"Выбрать файл\"]'\u001B[0m\u001B[1;33m\u001B[0m\u001B[1;33m\u001B[0m\u001B[0m\n\u001B[1;32m---> 11\u001B[1;33m \u001B[0mweb_rpa\u001B[0m\u001B[1;33m(\u001B[0m\u001B[1;33m)\u001B[0m\u001B[1;33m.\u001B[0m\u001B[0mwaitForLoad\u001B[0m\u001B[1;33m(\u001B[0m\u001B[0mwaited_element\u001B[0m\u001B[1;33m)\u001B[0m\u001B[1;33m\u001B[0m\u001B[1;33m\u001B[0m\u001B[0m\n\u001B[0m\u001B[0;32m     12\u001B[0m \u001B[1;33m\u001B[0m\u001B[0m\n\u001B[0;32m     13\u001B[0m \u001B[0mchoice_button\u001B[0m \u001B[1;33m=\u001B[0m \u001B[0mdriver\u001B[0m\u001B[1;33m.\u001B[0m\u001B[0mfind_element\u001B[0m\u001B[1;33m(\u001B[0m\u001B[1;34m'xpath'\u001B[0m\u001B[1;33m,\u001B[0m \u001B[0mwaited_element\u001B[0m\u001B[1;33m)\u001B[0m\u001B[1;33m\u001B[0m\u001B[1;33m\u001B[0m\u001B[0m\n",
      "\u001B[1;32m~\\AppData\\Local\\Temp\\ipykernel_4176\\1796706795.py\u001B[0m in \u001B[0;36mwaitForLoad\u001B[1;34m(self, inputXPath)\u001B[0m\n\u001B[0;32m      3\u001B[0m     \u001B[1;32mdef\u001B[0m \u001B[0mwaitForLoad\u001B[0m\u001B[1;33m(\u001B[0m\u001B[0mself\u001B[0m\u001B[1;33m,\u001B[0m \u001B[0minputXPath\u001B[0m\u001B[1;33m)\u001B[0m\u001B[1;33m:\u001B[0m\u001B[1;33m\u001B[0m\u001B[1;33m\u001B[0m\u001B[0m\n\u001B[0;32m      4\u001B[0m         \u001B[0mWait\u001B[0m \u001B[1;33m=\u001B[0m \u001B[0mWebDriverWait\u001B[0m\u001B[1;33m(\u001B[0m\u001B[0mdriver\u001B[0m\u001B[1;33m,\u001B[0m \u001B[1;36m120\u001B[0m\u001B[1;33m)\u001B[0m\u001B[1;33m\u001B[0m\u001B[1;33m\u001B[0m\u001B[0m\n\u001B[1;32m----> 5\u001B[1;33m         \u001B[0mWait\u001B[0m\u001B[1;33m.\u001B[0m\u001B[0muntil\u001B[0m\u001B[1;33m(\u001B[0m\u001B[0mEC\u001B[0m\u001B[1;33m.\u001B[0m\u001B[0melement_to_be_clickable\u001B[0m\u001B[1;33m(\u001B[0m\u001B[1;33m(\u001B[0m\u001B[0mBy\u001B[0m\u001B[1;33m.\u001B[0m\u001B[0mXPATH\u001B[0m\u001B[1;33m,\u001B[0m \u001B[0minputXPath\u001B[0m\u001B[1;33m)\u001B[0m\u001B[1;33m)\u001B[0m\u001B[1;33m)\u001B[0m\u001B[1;33m\u001B[0m\u001B[1;33m\u001B[0m\u001B[0m\n\u001B[0m\u001B[0;32m      6\u001B[0m \u001B[1;33m\u001B[0m\u001B[0m\n\u001B[0;32m      7\u001B[0m \u001B[1;31m#Формирование драйвера\u001B[0m\u001B[1;33m\u001B[0m\u001B[1;33m\u001B[0m\u001B[0m\n",
      "\u001B[1;32m~\\Anaconda3\\lib\\site-packages\\selenium\\webdriver\\support\\wait.py\u001B[0m in \u001B[0;36muntil\u001B[1;34m(self, method, message)\u001B[0m\n\u001B[0;32m     93\u001B[0m             \u001B[1;32mif\u001B[0m \u001B[0mtime\u001B[0m\u001B[1;33m.\u001B[0m\u001B[0mmonotonic\u001B[0m\u001B[1;33m(\u001B[0m\u001B[1;33m)\u001B[0m \u001B[1;33m>\u001B[0m \u001B[0mend_time\u001B[0m\u001B[1;33m:\u001B[0m\u001B[1;33m\u001B[0m\u001B[1;33m\u001B[0m\u001B[0m\n\u001B[0;32m     94\u001B[0m                 \u001B[1;32mbreak\u001B[0m\u001B[1;33m\u001B[0m\u001B[1;33m\u001B[0m\u001B[0m\n\u001B[1;32m---> 95\u001B[1;33m         \u001B[1;32mraise\u001B[0m \u001B[0mTimeoutException\u001B[0m\u001B[1;33m(\u001B[0m\u001B[0mmessage\u001B[0m\u001B[1;33m,\u001B[0m \u001B[0mscreen\u001B[0m\u001B[1;33m,\u001B[0m \u001B[0mstacktrace\u001B[0m\u001B[1;33m)\u001B[0m\u001B[1;33m\u001B[0m\u001B[1;33m\u001B[0m\u001B[0m\n\u001B[0m\u001B[0;32m     96\u001B[0m \u001B[1;33m\u001B[0m\u001B[0m\n\u001B[0;32m     97\u001B[0m     \u001B[1;32mdef\u001B[0m \u001B[0muntil_not\u001B[0m\u001B[1;33m(\u001B[0m\u001B[0mself\u001B[0m\u001B[1;33m,\u001B[0m \u001B[0mmethod\u001B[0m\u001B[1;33m,\u001B[0m \u001B[0mmessage\u001B[0m\u001B[1;33m:\u001B[0m \u001B[0mstr\u001B[0m \u001B[1;33m=\u001B[0m \u001B[1;34m\"\"\u001B[0m\u001B[1;33m)\u001B[0m\u001B[1;33m:\u001B[0m\u001B[1;33m\u001B[0m\u001B[1;33m\u001B[0m\u001B[0m\n",
      "\u001B[1;31mTimeoutException\u001B[0m: Message: \nStacktrace:\nBacktrace:\n\tOrdinal0 [0x00685A13+2251283]\n\tOrdinal0 [0x0061C0B1+1818801]\n\tOrdinal0 [0x00526E4D+814669]\n\tOrdinal0 [0x0055528F+1004175]\n\tOrdinal0 [0x0055547B+1004667]\n\tOrdinal0 [0x00587982+1210754]\n\tOrdinal0 [0x00571C54+1121364]\n\tOrdinal0 [0x00585D5A+1203546]\n\tOrdinal0 [0x00571A26+1120806]\n\tOrdinal0 [0x0054A3DB+959451]\n\tOrdinal0 [0x0054B42F+963631]\n\tGetHandleVerifier [0x00979942+3046962]\n\tGetHandleVerifier [0x00965690+2964352]\n\tGetHandleVerifier [0x0070CAAA+503706]\n\tGetHandleVerifier [0x0070BB50+499776]\n\tOrdinal0 [0x0062319C+1847708]\n\tOrdinal0 [0x006282F8+1868536]\n\tOrdinal0 [0x006283E5+1868773]\n\tOrdinal0 [0x006313EB+1905643]\n\tBaseThreadInitThunk [0x7597FA29+25]\n\tRtlGetAppContainerNamedObjectPath [0x774E7A9E+286]\n\tRtlGetAppContainerNamedObjectPath [0x774E7A6E+238]\n"
     ]
    }
   ],
   "source": [
    "#Подготовка к действиям\n",
    "start = 83 ##начальная метка закраски\n",
    "url = 'https://yandex.ru/map-constructor'\n",
    "path = os.path.abspath(\"./zas.xlsx\").replace('\\x5c', '//')\n",
    "driver.get(url)\n",
    "\n",
    "#Открытие конструктора\n",
    "open_button = driver.find_element('xpath', '//span[@class=\"button__text\" and text()=\"Открыть карту\"]')\n",
    "open_button.click()\n",
    "waited_element = '//span[@class=\"button__text\" and text()=\"Выбрать файл\"]'\n",
    "#web_rpa().waitForLoad(waited_element)\n",
    "time.sleep(60)\n",
    "\n",
    "#Загрузка файла с координатами\n",
    "choice_button = driver.find_element('xpath', waited_element)\n",
    "choice_button.click()\n",
    "pyperclip.copy(path)\n",
    "pyperclip.paste()\n",
    "pyautogui.press('enter')\n",
    "time.sleep(3)\n",
    "\n",
    "#Перекрашивание добавленных точек\n",
    "k = 0\n",
    "ids = f'//div[@data-id=\"local_1674203924970_{start + k}\"]'\n",
    "while EC.element_to_be_clickable((By.XPATH, ids)):\n",
    "    label = driver.find_element('xpath', ids)\n",
    "    label.click()\n",
    "    pallet = driver.find_element('xpath', '(//span[@class=\"icon select__tick\"])[4]')\n",
    "    pallet.click()\n",
    "    red =  driver.find_element('xpath', '//div[@class=\"menu__item menu__item_theme_colors menu__item_index_7 i-bem menu__item_js_inited\"]')\n",
    "    red.click()\n",
    "    k += 1\n",
    "\n",
    "\n",
    "\n"
   ],
   "metadata": {
    "collapsed": false
   }
  },
  {
   "cell_type": "code",
   "execution_count": 47,
   "outputs": [
    {
     "name": "stdout",
     "output_type": "stream",
     "text": [
      "//div[@data-id=\"local_1674203924970_10\"]\n"
     ]
    }
   ],
   "source": [
    "k = 6\n",
    "start = 4\n",
    "ids = f'//div[@data-id=\"local_1674203924970_{start + k}\"]'\n",
    "print(ids)"
   ],
   "metadata": {
    "collapsed": false
   }
  },
  {
   "cell_type": "code",
   "execution_count": null,
   "outputs": [],
   "source": [],
   "metadata": {
    "collapsed": false
   }
  }
 ],
 "metadata": {
  "kernelspec": {
   "display_name": "Python 3",
   "language": "python",
   "name": "python3"
  },
  "language_info": {
   "codemirror_mode": {
    "name": "ipython",
    "version": 2
   },
   "file_extension": ".py",
   "mimetype": "text/x-python",
   "name": "python",
   "nbconvert_exporter": "python",
   "pygments_lexer": "ipython2",
   "version": "2.7.6"
  }
 },
 "nbformat": 4,
 "nbformat_minor": 0
}
