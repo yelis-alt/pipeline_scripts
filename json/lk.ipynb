{
 "cells": [
  {
   "cell_type": "code",
   "execution_count": 177,
   "metadata": {
    "collapsed": true
   },
   "outputs": [
    {
     "name": "stderr",
     "output_type": "stream",
     "text": [
      "C:\\Users\\eliseev-ae\\AppData\\Local\\Temp\\ipykernel_12132\\2728086530.py:12: SettingWithCopyWarning: \n",
      "A value is trying to be set on a copy of a slice from a DataFrame\n",
      "\n",
      "See the caveats in the documentation: https://pandas.pydata.org/pandas-docs/stable/user_guide/indexing.html#returning-a-view-versus-a-copy\n",
      "  df.rename(columns ={'TITLE': 'project', 'title': 'stage',\n",
      "C:\\Users\\eliseev-ae\\AppData\\Local\\Temp\\ipykernel_12132\\2728086530.py:30: FutureWarning: The default dtype for empty Series will be 'object' instead of 'float64' in a future version. Specify a dtype explicitly to silence this warning.\n",
      "  df = pd.concat([df, df['tasks'].apply(pd.Series)], axis=1)\n",
      "C:\\Users\\eliseev-ae\\AppData\\Local\\Temp\\ipykernel_12132\\2728086530.py:30: FutureWarning: The default dtype for empty Series will be 'object' instead of 'float64' in a future version. Specify a dtype explicitly to silence this warning.\n",
      "  df = pd.concat([df, df['tasks'].apply(pd.Series)], axis=1)\n",
      "C:\\Users\\eliseev-ae\\AppData\\Local\\Temp\\ipykernel_12132\\2728086530.py:30: FutureWarning: The default dtype for empty Series will be 'object' instead of 'float64' in a future version. Specify a dtype explicitly to silence this warning.\n",
      "  df = pd.concat([df, df['tasks'].apply(pd.Series)], axis=1)\n",
      "C:\\Users\\eliseev-ae\\AppData\\Local\\Temp\\ipykernel_12132\\2728086530.py:30: FutureWarning: The default dtype for empty Series will be 'object' instead of 'float64' in a future version. Specify a dtype explicitly to silence this warning.\n",
      "  df = pd.concat([df, df['tasks'].apply(pd.Series)], axis=1)\n",
      "C:\\Users\\eliseev-ae\\AppData\\Local\\Temp\\ipykernel_12132\\2728086530.py:30: FutureWarning: The default dtype for empty Series will be 'object' instead of 'float64' in a future version. Specify a dtype explicitly to silence this warning.\n",
      "  df = pd.concat([df, df['tasks'].apply(pd.Series)], axis=1)\n",
      "C:\\Users\\eliseev-ae\\AppData\\Local\\Temp\\ipykernel_12132\\2728086530.py:30: FutureWarning: The default dtype for empty Series will be 'object' instead of 'float64' in a future version. Specify a dtype explicitly to silence this warning.\n",
      "  df = pd.concat([df, df['tasks'].apply(pd.Series)], axis=1)\n",
      "C:\\Users\\eliseev-ae\\AppData\\Local\\Temp\\ipykernel_12132\\2728086530.py:30: FutureWarning: The default dtype for empty Series will be 'object' instead of 'float64' in a future version. Specify a dtype explicitly to silence this warning.\n",
      "  df = pd.concat([df, df['tasks'].apply(pd.Series)], axis=1)\n",
      "C:\\Users\\eliseev-ae\\AppData\\Local\\Temp\\ipykernel_12132\\2728086530.py:30: FutureWarning: The default dtype for empty Series will be 'object' instead of 'float64' in a future version. Specify a dtype explicitly to silence this warning.\n",
      "  df = pd.concat([df, df['tasks'].apply(pd.Series)], axis=1)\n",
      "C:\\Users\\eliseev-ae\\AppData\\Local\\Temp\\ipykernel_12132\\2728086530.py:30: FutureWarning: The default dtype for empty Series will be 'object' instead of 'float64' in a future version. Specify a dtype explicitly to silence this warning.\n",
      "  df = pd.concat([df, df['tasks'].apply(pd.Series)], axis=1)\n",
      "C:\\Users\\eliseev-ae\\AppData\\Local\\Temp\\ipykernel_12132\\2728086530.py:30: FutureWarning: The default dtype for empty Series will be 'object' instead of 'float64' in a future version. Specify a dtype explicitly to silence this warning.\n",
      "  df = pd.concat([df, df['tasks'].apply(pd.Series)], axis=1)\n",
      "C:\\Users\\eliseev-ae\\AppData\\Local\\Temp\\ipykernel_12132\\2728086530.py:30: FutureWarning: The default dtype for empty Series will be 'object' instead of 'float64' in a future version. Specify a dtype explicitly to silence this warning.\n",
      "  df = pd.concat([df, df['tasks'].apply(pd.Series)], axis=1)\n",
      "C:\\Users\\eliseev-ae\\AppData\\Local\\Temp\\ipykernel_12132\\2728086530.py:30: FutureWarning: The default dtype for empty Series will be 'object' instead of 'float64' in a future version. Specify a dtype explicitly to silence this warning.\n",
      "  df = pd.concat([df, df['tasks'].apply(pd.Series)], axis=1)\n",
      "C:\\Users\\eliseev-ae\\AppData\\Local\\Temp\\ipykernel_12132\\2728086530.py:30: FutureWarning: The default dtype for empty Series will be 'object' instead of 'float64' in a future version. Specify a dtype explicitly to silence this warning.\n",
      "  df = pd.concat([df, df['tasks'].apply(pd.Series)], axis=1)\n",
      "C:\\Users\\eliseev-ae\\AppData\\Local\\Temp\\ipykernel_12132\\2728086530.py:30: FutureWarning: The default dtype for empty Series will be 'object' instead of 'float64' in a future version. Specify a dtype explicitly to silence this warning.\n",
      "  df = pd.concat([df, df['tasks'].apply(pd.Series)], axis=1)\n",
      "C:\\Users\\eliseev-ae\\AppData\\Local\\Temp\\ipykernel_12132\\2728086530.py:30: FutureWarning: The default dtype for empty Series will be 'object' instead of 'float64' in a future version. Specify a dtype explicitly to silence this warning.\n",
      "  df = pd.concat([df, df['tasks'].apply(pd.Series)], axis=1)\n",
      "C:\\Users\\eliseev-ae\\AppData\\Local\\Temp\\ipykernel_12132\\2728086530.py:30: FutureWarning: The default dtype for empty Series will be 'object' instead of 'float64' in a future version. Specify a dtype explicitly to silence this warning.\n",
      "  df = pd.concat([df, df['tasks'].apply(pd.Series)], axis=1)\n",
      "C:\\Users\\eliseev-ae\\AppData\\Local\\Temp\\ipykernel_12132\\2728086530.py:30: FutureWarning: The default dtype for empty Series will be 'object' instead of 'float64' in a future version. Specify a dtype explicitly to silence this warning.\n",
      "  df = pd.concat([df, df['tasks'].apply(pd.Series)], axis=1)\n",
      "C:\\Users\\eliseev-ae\\AppData\\Local\\Temp\\ipykernel_12132\\2728086530.py:30: FutureWarning: The default dtype for empty Series will be 'object' instead of 'float64' in a future version. Specify a dtype explicitly to silence this warning.\n",
      "  df = pd.concat([df, df['tasks'].apply(pd.Series)], axis=1)\n",
      "C:\\Users\\eliseev-ae\\AppData\\Local\\Temp\\ipykernel_12132\\2728086530.py:30: FutureWarning: The default dtype for empty Series will be 'object' instead of 'float64' in a future version. Specify a dtype explicitly to silence this warning.\n",
      "  df = pd.concat([df, df['tasks'].apply(pd.Series)], axis=1)\n"
     ]
    },
    {
     "data": {
      "text/plain": "                        project  \\\n0    УВВ-08-0403-22 от 28.02.22   \n1    УВВ-08-0403-22 от 28.02.22   \n2    УВВ-08-0403-22 от 28.02.22   \n3    УВВ-08-0403-22 от 28.02.22   \n4    УВВ-08-0403-22 от 28.02.22   \n..                          ...   \n292  УВВ-08-0403-22 от 28.02.22   \n293  УВВ-08-0403-22 от 28.02.22   \n294  УВВ-08-0403-22 от 28.02.22   \n295  УВВ-08-0403-22 от 28.02.22   \n296  УВВ-08-0403-22 от 28.02.22   \n\n                                                 stage  \\\n0    01 Развитие сервисов Портала для потребителей ...   \n1    01 Развитие сервисов Портала для потребителей ...   \n2    01 Развитие сервисов Портала для потребителей ...   \n3    01 Развитие сервисов Портала для потребителей ...   \n4    01 Развитие сервисов Портала для потребителей ...   \n..                                                 ...   \n292  07. Развитие сервисов безопасности и эксплуата...   \n293  07. Развитие сервисов безопасности и эксплуата...   \n294  07. Развитие сервисов безопасности и эксплуата...   \n295  07. Развитие сервисов безопасности и эксплуата...   \n296  07. Развитие сервисов безопасности и эксплуата...   \n\n                                              function   status_stage  \\\n0    4.2.1.2 Подача заявок на технологическое присо...  Этап завершен   \n1    4.2.3.2 Раскрытие информации (Калькулятор) сто...  Этап завершен   \n2    4.2.4.1 Регистрация потребителя — иностранного...  Этап завершен   \n3    01. Отчетные документы (Описание технических р...  Этап завершен   \n4                 02. Акт сдачи-приемки работ по этапу  Этап завершен   \n..                                                 ...            ...   \n292              02. Акт сдачи-приемки работ по этапу.  Этап завершен   \n293              02. Акт сдачи-приемки работ по этапу.  Этап завершен   \n294              02. Акт сдачи-приемки работ по этапу.  Этап завершен   \n295              02. Акт сдачи-приемки работ по этапу.  Этап завершен   \n296              02. Акт сдачи-приемки работ по этапу.  Этап завершен   \n\n     role_function duration_function start_function finish_function  \\\n0    Роман Доронин          419 дней     2021-12-01      2023-01-24   \n1    Роман Доронин          419 дней     2021-12-01      2023-01-24   \n2    Роман Доронин          419 дней     2021-12-01      2023-01-24   \n3                           121 день     2021-12-01      2022-04-01   \n4                           121 день     2021-12-01      2022-04-01   \n..             ...               ...            ...             ...   \n292                         435 дней     2021-12-01      2023-02-09   \n293                         435 дней     2021-12-01      2023-02-09   \n294                         435 дней     2021-12-01      2023-02-09   \n295                         435 дней     2021-12-01      2023-02-09   \n296                         435 дней     2021-12-01      2023-02-09   \n\n    status_function                                               task  \n0              None                                                NaN  \n1              None                                                NaN  \n2              None                                                NaN  \n3              None                                                NaN  \n4              None                                                NaN  \n..              ...                                                ...  \n292            None  03 Согласование док в электронном виде заказчиком  \n293            None                                04 Подписание в РСЦ  \n294            None                         Акт сдан в бухгалтерию РСЦ  \n295            None                      Утверждение Актов у заказчика  \n296            None                       Утверждение док. у Заказчика  \n\n[297 rows x 10 columns]",
      "text/html": "<div>\n<style scoped>\n    .dataframe tbody tr th:only-of-type {\n        vertical-align: middle;\n    }\n\n    .dataframe tbody tr th {\n        vertical-align: top;\n    }\n\n    .dataframe thead th {\n        text-align: right;\n    }\n</style>\n<table border=\"1\" class=\"dataframe\">\n  <thead>\n    <tr style=\"text-align: right;\">\n      <th></th>\n      <th>project</th>\n      <th>stage</th>\n      <th>function</th>\n      <th>status_stage</th>\n      <th>role_function</th>\n      <th>duration_function</th>\n      <th>start_function</th>\n      <th>finish_function</th>\n      <th>status_function</th>\n      <th>task</th>\n    </tr>\n  </thead>\n  <tbody>\n    <tr>\n      <th>0</th>\n      <td>УВВ-08-0403-22 от 28.02.22</td>\n      <td>01 Развитие сервисов Портала для потребителей ...</td>\n      <td>4.2.1.2 Подача заявок на технологическое присо...</td>\n      <td>Этап завершен</td>\n      <td>Роман Доронин</td>\n      <td>419 дней</td>\n      <td>2021-12-01</td>\n      <td>2023-01-24</td>\n      <td>None</td>\n      <td>NaN</td>\n    </tr>\n    <tr>\n      <th>1</th>\n      <td>УВВ-08-0403-22 от 28.02.22</td>\n      <td>01 Развитие сервисов Портала для потребителей ...</td>\n      <td>4.2.3.2 Раскрытие информации (Калькулятор) сто...</td>\n      <td>Этап завершен</td>\n      <td>Роман Доронин</td>\n      <td>419 дней</td>\n      <td>2021-12-01</td>\n      <td>2023-01-24</td>\n      <td>None</td>\n      <td>NaN</td>\n    </tr>\n    <tr>\n      <th>2</th>\n      <td>УВВ-08-0403-22 от 28.02.22</td>\n      <td>01 Развитие сервисов Портала для потребителей ...</td>\n      <td>4.2.4.1 Регистрация потребителя — иностранного...</td>\n      <td>Этап завершен</td>\n      <td>Роман Доронин</td>\n      <td>419 дней</td>\n      <td>2021-12-01</td>\n      <td>2023-01-24</td>\n      <td>None</td>\n      <td>NaN</td>\n    </tr>\n    <tr>\n      <th>3</th>\n      <td>УВВ-08-0403-22 от 28.02.22</td>\n      <td>01 Развитие сервисов Портала для потребителей ...</td>\n      <td>01. Отчетные документы (Описание технических р...</td>\n      <td>Этап завершен</td>\n      <td></td>\n      <td>121 день</td>\n      <td>2021-12-01</td>\n      <td>2022-04-01</td>\n      <td>None</td>\n      <td>NaN</td>\n    </tr>\n    <tr>\n      <th>4</th>\n      <td>УВВ-08-0403-22 от 28.02.22</td>\n      <td>01 Развитие сервисов Портала для потребителей ...</td>\n      <td>02. Акт сдачи-приемки работ по этапу</td>\n      <td>Этап завершен</td>\n      <td></td>\n      <td>121 день</td>\n      <td>2021-12-01</td>\n      <td>2022-04-01</td>\n      <td>None</td>\n      <td>NaN</td>\n    </tr>\n    <tr>\n      <th>...</th>\n      <td>...</td>\n      <td>...</td>\n      <td>...</td>\n      <td>...</td>\n      <td>...</td>\n      <td>...</td>\n      <td>...</td>\n      <td>...</td>\n      <td>...</td>\n      <td>...</td>\n    </tr>\n    <tr>\n      <th>292</th>\n      <td>УВВ-08-0403-22 от 28.02.22</td>\n      <td>07. Развитие сервисов безопасности и эксплуата...</td>\n      <td>02. Акт сдачи-приемки работ по этапу.</td>\n      <td>Этап завершен</td>\n      <td></td>\n      <td>435 дней</td>\n      <td>2021-12-01</td>\n      <td>2023-02-09</td>\n      <td>None</td>\n      <td>03 Согласование док в электронном виде заказчиком</td>\n    </tr>\n    <tr>\n      <th>293</th>\n      <td>УВВ-08-0403-22 от 28.02.22</td>\n      <td>07. Развитие сервисов безопасности и эксплуата...</td>\n      <td>02. Акт сдачи-приемки работ по этапу.</td>\n      <td>Этап завершен</td>\n      <td></td>\n      <td>435 дней</td>\n      <td>2021-12-01</td>\n      <td>2023-02-09</td>\n      <td>None</td>\n      <td>04 Подписание в РСЦ</td>\n    </tr>\n    <tr>\n      <th>294</th>\n      <td>УВВ-08-0403-22 от 28.02.22</td>\n      <td>07. Развитие сервисов безопасности и эксплуата...</td>\n      <td>02. Акт сдачи-приемки работ по этапу.</td>\n      <td>Этап завершен</td>\n      <td></td>\n      <td>435 дней</td>\n      <td>2021-12-01</td>\n      <td>2023-02-09</td>\n      <td>None</td>\n      <td>Акт сдан в бухгалтерию РСЦ</td>\n    </tr>\n    <tr>\n      <th>295</th>\n      <td>УВВ-08-0403-22 от 28.02.22</td>\n      <td>07. Развитие сервисов безопасности и эксплуата...</td>\n      <td>02. Акт сдачи-приемки работ по этапу.</td>\n      <td>Этап завершен</td>\n      <td></td>\n      <td>435 дней</td>\n      <td>2021-12-01</td>\n      <td>2023-02-09</td>\n      <td>None</td>\n      <td>Утверждение Актов у заказчика</td>\n    </tr>\n    <tr>\n      <th>296</th>\n      <td>УВВ-08-0403-22 от 28.02.22</td>\n      <td>07. Развитие сервисов безопасности и эксплуата...</td>\n      <td>02. Акт сдачи-приемки работ по этапу.</td>\n      <td>Этап завершен</td>\n      <td></td>\n      <td>435 дней</td>\n      <td>2021-12-01</td>\n      <td>2023-02-09</td>\n      <td>None</td>\n      <td>Утверждение док. у Заказчика</td>\n    </tr>\n  </tbody>\n</table>\n<p>297 rows × 10 columns</p>\n</div>"
     },
     "execution_count": 177,
     "metadata": {},
     "output_type": "execute_result"
    }
   ],
   "source": [
    "import json\n",
    "import pandas as pd\n",
    "import numpy as np\n",
    "with open('data.json') as fp:\n",
    "    data = json.load(fp)\n",
    "fields = ['TITLE', 'ITEMS']\n",
    "df = pd.json_normalize(data,max_level=1)[fields]\n",
    "df = df.explode('ITEMS', ignore_index=True)\n",
    "df = pd.concat([df, df['ITEMS'].apply(pd.Series)], axis=1)\n",
    "dd = df\n",
    "df = df[['TITLE', 'title', 'ITEMS', 'STATUS_RESULT']]\n",
    "df.rename(columns ={'TITLE': 'project', 'title': 'stage',\n",
    "                    'ITEMS': 'items', 'STATUS_RESULT': 'status_stage'}, inplace = True)\n",
    "df = df.iloc[:, np.r_[0,2,4,5]]\n",
    "df = df.explode('items', ignore_index=True)\n",
    "df = pd.concat([df, df['items'].apply(pd.Series)], axis=1)\n",
    "fields = ['project', 'stage', 'status_stage', 'title', 'RESPONSOBLE_FIO', 'DURATION', 'BEGIN_DATE_FORMAT',\n",
    "         'CLOSE_DATE_FORMAT', 'STATUS_RESULT', 'ITEMS', 'TASKS']\n",
    "df = df[fields]\n",
    "repl = {'title':'function', 'RESPONSOBLE_FIO': 'role_function',\n",
    "        'DURATION': 'duration_function', 'BEGIN_DATE_FORMAT': 'start_function',\n",
    "        'CLOSE_DATE_FORMAT': 'finish_function',\n",
    "        'STATUS_RESULT': 'status_function', 'ITEMS': 'items', 'TASKS': 'tasks'}\n",
    "df.rename(columns = repl, inplace = True)\n",
    "fields = ['project', 'stage', 'function', 'status_stage', 'role_function',\n",
    "         'duration_function', 'start_function', 'finish_function',\n",
    "         'status_function', 'tasks']\n",
    "df = df[fields]\n",
    "df = df.explode('tasks', ignore_index=True)\n",
    "df = pd.concat([df, df['tasks'].apply(pd.Series)], axis=1)\n",
    "fields.append('TITLE')\n",
    "\n",
    "df = df[fields]\n",
    "df.rename(columns ={'TITLE': 'task'}, inplace = True)\n",
    "df = df.drop('tasks', axis = 1)\n",
    "df"
   ]
  },
  {
   "cell_type": "code",
   "execution_count": 179,
   "outputs": [
    {
     "data": {
      "text/plain": "                        TITLE  \\\n0  УВВ-08-0403-22 от 28.02.22   \n1  УВВ-08-0403-22 от 28.02.22   \n2  УВВ-08-0403-22 от 28.02.22   \n3  УВВ-08-0403-22 от 28.02.22   \n4  УВВ-08-0403-22 от 28.02.22   \n5  УВВ-08-0403-22 от 28.02.22   \n6  УВВ-08-0403-22 от 28.02.22   \n\n                                               ITEMS  id xmlId  \\\n0  {'id': 15, 'xmlId': '', 'title': '01 Развитие ...  15         \n1  {'id': 16, 'xmlId': '', 'title': '02 Развитие ...  16         \n2  {'id': 17, 'xmlId': '', 'title': '03. Развитие...  17         \n3  {'id': 21, 'xmlId': '', 'title': '04. Развитие...  21         \n4  {'id': 23, 'xmlId': '', 'title': '05. Развитие...  23         \n5  {'id': 25, 'xmlId': '', 'title': '06. Развитие...  25         \n6  {'id': 27, 'xmlId': '', 'title': '07. Развитие...  27         \n\n                                               title  createdBy  updatedBy  \\\n0  01 Развитие сервисов Портала для потребителей ...        988        988   \n1  02 Развитие сервисов Портала для потребителей ...        988        527   \n2  03. Развитие сервисов Портала для потребителей...        988        527   \n3  04. Развитие сервисов Портала «Личный кабинет ...        988        988   \n4  05. Развитие мобильного личного кабинета потре...        988        527   \n5  06. Развитие мобильного личного кабинета потре...        988        988   \n6  07. Развитие сервисов безопасности и эксплуата...        988        988   \n\n   movedBy                createdTime                updatedTime  ...  ID  \\\n0      988  2023-01-24T16:13:56+03:00  2023-02-07T14:50:02+03:00  ...  15   \n1      527  2023-01-24T16:26:36+03:00  2023-02-09T08:14:42+03:00  ...  16   \n2      527  2023-01-24T16:50:02+03:00  2023-02-09T08:14:41+03:00  ...  17   \n3      988  2023-01-24T16:58:18+03:00  2023-02-07T14:51:22+03:00  ...  21   \n4      527  2023-01-24T17:08:51+03:00  2023-02-09T08:14:39+03:00  ...  23   \n5      527  2023-01-24T17:17:23+03:00  2023-02-10T16:13:36+03:00  ...  25   \n6      988  2023-01-24T17:22:37+03:00  2023-02-07T14:52:06+03:00  ...  27   \n\n                                               TITLE  \\\n0  01 Развитие сервисов Портала для потребителей ...   \n1  02 Развитие сервисов Портала для потребителей ...   \n2  03. Развитие сервисов Портала для потребителей...   \n3  04. Развитие сервисов Портала «Личный кабинет ...   \n4  05. Развитие мобильного личного кабинета потре...   \n5  06. Развитие мобильного личного кабинета потре...   \n6  07. Развитие сервисов безопасности и эксплуата...   \n\n                                                 URL  DURATION  \\\n0  /page/etapy_dogovora/etapy_dogovora/type/130/d...  419 дней   \n1  /page/etapy_dogovora/etapy_dogovora/type/130/d...  440 дней   \n2  /page/etapy_dogovora/etapy_dogovora/type/130/d...   454 дня   \n3  /page/etapy_dogovora/etapy_dogovora/type/130/d...  419 дней   \n4  /page/etapy_dogovora/etapy_dogovora/type/130/d...  429 дней   \n5  /page/etapy_dogovora/etapy_dogovora/type/130/d...   422 дня   \n6  /page/etapy_dogovora/etapy_dogovora/type/130/d...  378 дней   \n\n  RESPONSOBLE_FIO BEGIN_DATE_FORMAT CLOSE_DATE_FORMAT  \\\n0   Роман Доронин        2021-12-01        2023-01-24   \n1   Роман Доронин        2021-12-01        2023-02-14   \n2   Роман Доронин        2021-12-01        2023-02-28   \n3   Роман Доронин        2021-12-01        2023-01-24   \n4   Роман Доронин        2021-12-01        2023-02-03   \n5   Роман Доронин        2021-12-01        2023-01-27   \n6   Роман Доронин        2021-12-01        2022-12-14   \n\n                                       STATUS_RESULT  \\\n0                                      Этап завершен   \n1  Запланирована демонстрация выполнения функций ...   \n2  Требуется готовность этапа 6 договора. Демонст...   \n3                                      Этап завершен   \n4  Требуется готовность этапа 2 договора. Демонст...   \n5  Проведены ПСИ. Этап сдан. Необходимо актуализи...   \n6                                      Этап завершен   \n\n                                               ITEMS  \\\n0  [{'id': 4, 'xmlId': '', 'title': '4.2.1.2 Пода...   \n1  [{'id': 7, 'xmlId': '', 'title': '4.2.1.1.1 По...   \n2  [{'id': 18, 'xmlId': '', 'title': '4.2.2.1.1 П...   \n3  [{'id': 25, 'xmlId': '', 'title': '4.1.6 Требо...   \n4  [{'id': 31, 'xmlId': '', 'title': '4.2.1.1 МЛК...   \n5  [{'id': 45, 'xmlId': '', 'title': '4.2.2.5 МЛК...   \n6  [{'id': 50, 'xmlId': '', 'title': '4.1.1.1 МЛК...   \n\n                                               TASKS  \n0                                               None  \n1  [{'ID': '4763', 'TITLE': 'В производстве', 'DE...  \n2  [{'ID': '4466', 'TITLE': 'В производстве', 'DE...  \n3                                               None  \n4  [{'ID': '3978', 'TITLE': 'В производстве', 'DE...  \n5  [{'ID': '3916', 'TITLE': 'В производстве', 'DE...  \n6                                               None  \n\n[7 rows x 85 columns]",
      "text/html": "<div>\n<style scoped>\n    .dataframe tbody tr th:only-of-type {\n        vertical-align: middle;\n    }\n\n    .dataframe tbody tr th {\n        vertical-align: top;\n    }\n\n    .dataframe thead th {\n        text-align: right;\n    }\n</style>\n<table border=\"1\" class=\"dataframe\">\n  <thead>\n    <tr style=\"text-align: right;\">\n      <th></th>\n      <th>TITLE</th>\n      <th>ITEMS</th>\n      <th>id</th>\n      <th>xmlId</th>\n      <th>title</th>\n      <th>createdBy</th>\n      <th>updatedBy</th>\n      <th>movedBy</th>\n      <th>createdTime</th>\n      <th>updatedTime</th>\n      <th>...</th>\n      <th>ID</th>\n      <th>TITLE</th>\n      <th>URL</th>\n      <th>DURATION</th>\n      <th>RESPONSOBLE_FIO</th>\n      <th>BEGIN_DATE_FORMAT</th>\n      <th>CLOSE_DATE_FORMAT</th>\n      <th>STATUS_RESULT</th>\n      <th>ITEMS</th>\n      <th>TASKS</th>\n    </tr>\n  </thead>\n  <tbody>\n    <tr>\n      <th>0</th>\n      <td>УВВ-08-0403-22 от 28.02.22</td>\n      <td>{'id': 15, 'xmlId': '', 'title': '01 Развитие ...</td>\n      <td>15</td>\n      <td></td>\n      <td>01 Развитие сервисов Портала для потребителей ...</td>\n      <td>988</td>\n      <td>988</td>\n      <td>988</td>\n      <td>2023-01-24T16:13:56+03:00</td>\n      <td>2023-02-07T14:50:02+03:00</td>\n      <td>...</td>\n      <td>15</td>\n      <td>01 Развитие сервисов Портала для потребителей ...</td>\n      <td>/page/etapy_dogovora/etapy_dogovora/type/130/d...</td>\n      <td>419 дней</td>\n      <td>Роман Доронин</td>\n      <td>2021-12-01</td>\n      <td>2023-01-24</td>\n      <td>Этап завершен</td>\n      <td>[{'id': 4, 'xmlId': '', 'title': '4.2.1.2 Пода...</td>\n      <td>None</td>\n    </tr>\n    <tr>\n      <th>1</th>\n      <td>УВВ-08-0403-22 от 28.02.22</td>\n      <td>{'id': 16, 'xmlId': '', 'title': '02 Развитие ...</td>\n      <td>16</td>\n      <td></td>\n      <td>02 Развитие сервисов Портала для потребителей ...</td>\n      <td>988</td>\n      <td>527</td>\n      <td>527</td>\n      <td>2023-01-24T16:26:36+03:00</td>\n      <td>2023-02-09T08:14:42+03:00</td>\n      <td>...</td>\n      <td>16</td>\n      <td>02 Развитие сервисов Портала для потребителей ...</td>\n      <td>/page/etapy_dogovora/etapy_dogovora/type/130/d...</td>\n      <td>440 дней</td>\n      <td>Роман Доронин</td>\n      <td>2021-12-01</td>\n      <td>2023-02-14</td>\n      <td>Запланирована демонстрация выполнения функций ...</td>\n      <td>[{'id': 7, 'xmlId': '', 'title': '4.2.1.1.1 По...</td>\n      <td>[{'ID': '4763', 'TITLE': 'В производстве', 'DE...</td>\n    </tr>\n    <tr>\n      <th>2</th>\n      <td>УВВ-08-0403-22 от 28.02.22</td>\n      <td>{'id': 17, 'xmlId': '', 'title': '03. Развитие...</td>\n      <td>17</td>\n      <td></td>\n      <td>03. Развитие сервисов Портала для потребителей...</td>\n      <td>988</td>\n      <td>527</td>\n      <td>527</td>\n      <td>2023-01-24T16:50:02+03:00</td>\n      <td>2023-02-09T08:14:41+03:00</td>\n      <td>...</td>\n      <td>17</td>\n      <td>03. Развитие сервисов Портала для потребителей...</td>\n      <td>/page/etapy_dogovora/etapy_dogovora/type/130/d...</td>\n      <td>454 дня</td>\n      <td>Роман Доронин</td>\n      <td>2021-12-01</td>\n      <td>2023-02-28</td>\n      <td>Требуется готовность этапа 6 договора. Демонст...</td>\n      <td>[{'id': 18, 'xmlId': '', 'title': '4.2.2.1.1 П...</td>\n      <td>[{'ID': '4466', 'TITLE': 'В производстве', 'DE...</td>\n    </tr>\n    <tr>\n      <th>3</th>\n      <td>УВВ-08-0403-22 от 28.02.22</td>\n      <td>{'id': 21, 'xmlId': '', 'title': '04. Развитие...</td>\n      <td>21</td>\n      <td></td>\n      <td>04. Развитие сервисов Портала «Личный кабинет ...</td>\n      <td>988</td>\n      <td>988</td>\n      <td>988</td>\n      <td>2023-01-24T16:58:18+03:00</td>\n      <td>2023-02-07T14:51:22+03:00</td>\n      <td>...</td>\n      <td>21</td>\n      <td>04. Развитие сервисов Портала «Личный кабинет ...</td>\n      <td>/page/etapy_dogovora/etapy_dogovora/type/130/d...</td>\n      <td>419 дней</td>\n      <td>Роман Доронин</td>\n      <td>2021-12-01</td>\n      <td>2023-01-24</td>\n      <td>Этап завершен</td>\n      <td>[{'id': 25, 'xmlId': '', 'title': '4.1.6 Требо...</td>\n      <td>None</td>\n    </tr>\n    <tr>\n      <th>4</th>\n      <td>УВВ-08-0403-22 от 28.02.22</td>\n      <td>{'id': 23, 'xmlId': '', 'title': '05. Развитие...</td>\n      <td>23</td>\n      <td></td>\n      <td>05. Развитие мобильного личного кабинета потре...</td>\n      <td>988</td>\n      <td>527</td>\n      <td>527</td>\n      <td>2023-01-24T17:08:51+03:00</td>\n      <td>2023-02-09T08:14:39+03:00</td>\n      <td>...</td>\n      <td>23</td>\n      <td>05. Развитие мобильного личного кабинета потре...</td>\n      <td>/page/etapy_dogovora/etapy_dogovora/type/130/d...</td>\n      <td>429 дней</td>\n      <td>Роман Доронин</td>\n      <td>2021-12-01</td>\n      <td>2023-02-03</td>\n      <td>Требуется готовность этапа 2 договора. Демонст...</td>\n      <td>[{'id': 31, 'xmlId': '', 'title': '4.2.1.1 МЛК...</td>\n      <td>[{'ID': '3978', 'TITLE': 'В производстве', 'DE...</td>\n    </tr>\n    <tr>\n      <th>5</th>\n      <td>УВВ-08-0403-22 от 28.02.22</td>\n      <td>{'id': 25, 'xmlId': '', 'title': '06. Развитие...</td>\n      <td>25</td>\n      <td></td>\n      <td>06. Развитие мобильного личного кабинета потре...</td>\n      <td>988</td>\n      <td>988</td>\n      <td>527</td>\n      <td>2023-01-24T17:17:23+03:00</td>\n      <td>2023-02-10T16:13:36+03:00</td>\n      <td>...</td>\n      <td>25</td>\n      <td>06. Развитие мобильного личного кабинета потре...</td>\n      <td>/page/etapy_dogovora/etapy_dogovora/type/130/d...</td>\n      <td>422 дня</td>\n      <td>Роман Доронин</td>\n      <td>2021-12-01</td>\n      <td>2023-01-27</td>\n      <td>Проведены ПСИ. Этап сдан. Необходимо актуализи...</td>\n      <td>[{'id': 45, 'xmlId': '', 'title': '4.2.2.5 МЛК...</td>\n      <td>[{'ID': '3916', 'TITLE': 'В производстве', 'DE...</td>\n    </tr>\n    <tr>\n      <th>6</th>\n      <td>УВВ-08-0403-22 от 28.02.22</td>\n      <td>{'id': 27, 'xmlId': '', 'title': '07. Развитие...</td>\n      <td>27</td>\n      <td></td>\n      <td>07. Развитие сервисов безопасности и эксплуата...</td>\n      <td>988</td>\n      <td>988</td>\n      <td>988</td>\n      <td>2023-01-24T17:22:37+03:00</td>\n      <td>2023-02-07T14:52:06+03:00</td>\n      <td>...</td>\n      <td>27</td>\n      <td>07. Развитие сервисов безопасности и эксплуата...</td>\n      <td>/page/etapy_dogovora/etapy_dogovora/type/130/d...</td>\n      <td>378 дней</td>\n      <td>Роман Доронин</td>\n      <td>2021-12-01</td>\n      <td>2022-12-14</td>\n      <td>Этап завершен</td>\n      <td>[{'id': 50, 'xmlId': '', 'title': '4.1.1.1 МЛК...</td>\n      <td>None</td>\n    </tr>\n  </tbody>\n</table>\n<p>7 rows × 85 columns</p>\n</div>"
     },
     "execution_count": 179,
     "metadata": {},
     "output_type": "execute_result"
    }
   ],
   "source": [],
   "metadata": {
    "collapsed": false
   }
  },
  {
   "cell_type": "code",
   "execution_count": null,
   "outputs": [],
   "source": [],
   "metadata": {
    "collapsed": false
   }
  }
 ],
 "metadata": {
  "kernelspec": {
   "display_name": "Python 3",
   "language": "python",
   "name": "python3"
  },
  "language_info": {
   "codemirror_mode": {
    "name": "ipython",
    "version": 2
   },
   "file_extension": ".py",
   "mimetype": "text/x-python",
   "name": "python",
   "nbconvert_exporter": "python",
   "pygments_lexer": "ipython2",
   "version": "2.7.6"
  }
 },
 "nbformat": 4,
 "nbformat_minor": 0
}
