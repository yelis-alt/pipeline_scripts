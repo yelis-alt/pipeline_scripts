{
 "cells": [
  {
   "cell_type": "code",
   "execution_count": 78,
   "outputs": [
    {
     "name": "stdout",
     "output_type": "stream",
     "text": [
      "brytkova-tn\n",
      "sergienko-dv\n"
     ]
    }
   ],
   "source": [
    "#Импорт библиотек\n",
    "from transliterate import translit\n",
    "import win32com.client\n",
    "#import random\n",
    "\n",
    "class text_inst():\n",
    "    #Функция поиска первого числа в строке\n",
    "    def number_pos(self, string):\n",
    "        for i, c in enumerate(string):\n",
    "            if c.isdigit():\n",
    "                return i\n",
    "                break\n",
    "\n",
    "#Выделение строчек из письма\n",
    "strings = []\n",
    "outlook = win32com.client.Dispatch('outlook.application')\n",
    "mapi = outlook.GetNamespace(\"MAPI\")\n",
    "inbox = mapi.GetDefaultFolder(6)\n",
    "messages = inbox.Items\n",
    "messages.Sort(\"[ReceivedTime]\", True)\n",
    "for message in messages:\n",
    "    if (message.UnRead) and \\\n",
    "    ((message.subject.startswith(\"FW: В ответственность Вашей команды назначена заявка\")) or \\\n",
    "    (message.subject.startswith(\"В ответственность Вашей команды назначена заявка\"))) and \\\n",
    "    (message.body.find('ПРИЕМ НА РАБОТУ') > -1):\n",
    "        string_pos_start = message.body.find('ФИО')\n",
    "        string = message.body[string_pos_start::]\n",
    "        string = string[:len(string) - 13]\n",
    "        message.Unread = False\n",
    "        strings.append(string)\n",
    "\n",
    "#Формирование текстовых полей для заполнения\n",
    "symbols = ['!', '#', '$', '%', '+', '&', '@']\n",
    "for string in strings:\n",
    "    string =  string[50:]\n",
    "    date_start = text_inst().number_pos(string)\n",
    "    fio = string[:date_start]\n",
    "    surname, name, patronymic = fio.split()\n",
    "    birth = string[len(string)-10::]\n",
    "\n",
    "    #Формирование логина\n",
    "    login_base = translit(surname, 'ru',  reversed=True).lower()\n",
    "    login_init1 =  translit(name[0], 'ru',  reversed=True).lower()\n",
    "    login_init2 =  translit(patronymic[0], 'ru',  reversed=True).lower()\n",
    "    login = login_base + '-' + login_init1 + login_init2\n",
    "\n",
    "    #Формирование пароля\n",
    "    #random_num = random.randint(1000,9999)\n",
    "    #random_symbol = random.choice(symbols)\n",
    "    #password = login_base.capitalize() + str(random_num) + random_symbol\n",
    "    password = 'Zaq123456&'"
   ],
   "metadata": {
    "collapsed": false
   }
  },
  {
   "cell_type": "code",
   "execution_count": 79,
   "outputs": [
    {
     "data": {
      "text/plain": "'C:\\\\Users\\\\eliseev-ae\\\\Anaconda3'"
     },
     "execution_count": 79,
     "metadata": {},
     "output_type": "execute_result"
    }
   ],
   "source": [
    "import os\n",
    "import sys\n",
    "os.path.dirname(sys.executable)"
   ],
   "metadata": {
    "collapsed": false
   }
  },
  {
   "cell_type": "code",
   "execution_count": null,
   "outputs": [],
   "source": [],
   "metadata": {
    "collapsed": false
   }
  }
 ],
 "metadata": {
  "kernelspec": {
   "display_name": "Python 3",
   "language": "python",
   "name": "python3"
  },
  "language_info": {
   "codemirror_mode": {
    "name": "ipython",
    "version": 2
   },
   "file_extension": ".py",
   "mimetype": "text/x-python",
   "name": "python",
   "nbconvert_exporter": "python",
   "pygments_lexer": "ipython2",
   "version": "2.7.6"
  }
 },
 "nbformat": 4,
 "nbformat_minor": 0
}
