{
 "cells": [
  {
   "cell_type": "code",
   "execution_count": 3,
   "outputs": [
    {
     "name": "stdout",
     "output_type": "stream",
     "text": [
      "application_filler – application_filler.ipynb\n",
      "Obtain Active window using Python - Stack Overflow — Яндекс Браузер\n"
     ]
    }
   ],
   "source": [
    "#Импорт библиотек\n",
    "from transliterate import translit\n",
    "from win32gui import GetWindowText, GetForegroundWindow\n",
    "import win32com.client\n",
    "import pyautogui\n",
    "#import random\n",
    "\n",
    "class text_inst():\n",
    "    #Функция поиска первого числа в строке\n",
    "    def number_pos(self, string):\n",
    "        for i, c in enumerate(string):\n",
    "            if c.isdigit():\n",
    "                return i\n",
    "                break\n",
    "text = text_inst()\n",
    "\n",
    "class key_inst():\n",
    "    #Функция повторения нажатия клавиш\n",
    "    def cycle_key(self, count, key):\n",
    "        for i in range(count):\n",
    "            pyautogui.press(key)\n",
    "key = key_inst()\n",
    "\n",
    "#Выделение строчек из письма\n",
    "strings = []\n",
    "outlook = win32com.client.Dispatch('outlook.application')\n",
    "mapi = outlook.GetNamespace(\"MAPI\")\n",
    "inbox = mapi.GetDefaultFolder(6)\n",
    "messages = inbox.Items\n",
    "messages.Sort(\"[ReceivedTime]\", True)\n",
    "for message in messages:\n",
    "    if (message.UnRead) and \\\n",
    "    ((message.subject.startswith(\"FW: В ответственность Вашей команды назначена заявка\")) or \\\n",
    "    (message.subject.startswith(\"В ответственность Вашей команды назначена заявка\"))) and \\\n",
    "    (message.body.find('ПРИЕМ НА РАБОТУ') > -1):\n",
    "        string_pos_start = message.body.find('ФИО')\n",
    "        string = message.body[string_pos_start::]\n",
    "        string = string[:len(string) - 13]\n",
    "        message.Unread = False\n",
    "        strings.append(string)\n",
    "\n",
    "#Формирование текстовых полей для заполнения\n",
    "#symbols = ['!', '#', '$', '%', '+', '&', '@']\n",
    "for k, string in enumerate(strings):\n",
    "    string =  string[50:]\n",
    "    date_start = text().number_pos(string)\n",
    "    fio = string[:date_start]\n",
    "    surname, name, patronymic = fio.split()\n",
    "    birth = string[len(string)-10::]\n",
    "\n",
    "    #Формирование логина\n",
    "    login_base = translit(surname, 'ru',  reversed=True).lower()\n",
    "    login_init1 =  translit(name[0], 'ru',  reversed=True).lower()\n",
    "    login_init2 =  translit(patronymic[0], 'ru',  reversed=True).lower()\n",
    "    login = login_base + '-' + login_init1 + login_init2\n",
    "\n",
    "    #Формирование пароля\n",
    "    #random_num = random.randint(1000,9999)\n",
    "    #random_symbol = random.choice(symbols)\n",
    "    #password = login_base.capitalize() + str(random_num) + random_symbol\n",
    "    password = 'Zaq123456&'\n",
    "\n",
    "    #Заполнение формы\n",
    "    print (GetWindowText(GetForegroundWindow()))\n",
    "    if k == 0:\n",
    "        key.cycle_key(200, 'up')\n",
    "        key.cycle_key(2, 'down')\n",
    "        pyautogui.press('clear')\n",
    "        pyautogui.press('add')\n",
    "        key.cycle_key(17, 'down')\n",
    "        pyautogui.press('add')\n",
    "        key.cycle_key(9, 'down')\n",
    "        pyautogui.hotkey('shift', 'f10')\n",
    "        key.cycle_key(4, 'down')\n",
    "        key.cycle_key(2, 'enter')"
   ],
   "metadata": {
    "collapsed": false
   }
  },
  {
   "cell_type": "code",
   "execution_count": null,
   "outputs": [],
   "source": [],
   "metadata": {
    "collapsed": false
   }
  }
 ],
 "metadata": {
  "kernelspec": {
   "display_name": "Python 3",
   "language": "python",
   "name": "python3"
  },
  "language_info": {
   "codemirror_mode": {
    "name": "ipython",
    "version": 2
   },
   "file_extension": ".py",
   "mimetype": "text/x-python",
   "name": "python",
   "nbconvert_exporter": "python",
   "pygments_lexer": "ipython2",
   "version": "2.7.6"
  }
 },
 "nbformat": 4,
 "nbformat_minor": 0
}
