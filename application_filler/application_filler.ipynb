{
 "cells": [
  {
   "cell_type": "code",
   "execution_count": 18,
   "outputs": [],
   "source": [
    "#Импорт библиотек\n",
    "from transliterate import translit\n",
    "import pyautogui\n",
    "import pyperclip\n",
    "##import random\n",
    "\n",
    "class text_inst():\n",
    "    #Метод поиска первого числа в строке\n",
    "    def number_pos(self, string):\n",
    "        for i, c in enumerate(string):\n",
    "            if c.isdigit():\n",
    "                return i\n",
    "                break\n",
    "    #Метод вставки текста в поле\n",
    "    def field_paste(self, field):\n",
    "        pyperclip.copy(field)\n",
    "        pyperclip.paste()\n",
    "text = text_inst()\n",
    "\n",
    "class key_inst():\n",
    "    #Метод повторения нажатия клавиш\n",
    "    def cycle(self, count, key):\n",
    "        for i in range(count):\n",
    "            pyautogui.press(key)\n",
    "key = key_inst()\n",
    "\n",
    "#Выделение строчек из письма\n",
    "strings = []\n",
    "outlook = win32com.client.Dispatch('outlook.application')\n",
    "mapi = outlook.GetNamespace(\"MAPI\")\n",
    "inbox = mapi.GetDefaultFolder(6)\n",
    "messages = inbox.Items\n",
    "messages.Sort(\"[ReceivedTime]\", True)\n",
    "for message in messages:\n",
    "    if (message.UnRead) and \\\n",
    "    ((message.subject.startswith(\"FW: В ответственность Вашей команды назначена заявка\")) or \\\n",
    "    (message.subject.startswith(\"В ответственность Вашей команды назначена заявка\"))) and \\\n",
    "    (message.body.find('ПРИЕМ НА РАБОТУ') > -1):\n",
    "        string_pos_start = message.body.find('ФИО')\n",
    "        string = message.body[string_pos_start::]\n",
    "        string = string[:len(string) - 13]\n",
    "        message.Unread = False\n",
    "        strings.append(string)\n",
    "\n",
    "#Формирование текстовых полей для заполнения\n",
    "##symbols = ['!', '#', '$', '%', '+', '&', '@']\n",
    "for k, string in enumerate(strings):\n",
    "    string =  string[50:]\n",
    "    date_start = text.number_pos(string)\n",
    "    fio = string[:date_start]\n",
    "    surname, name, patronymic = fio.split()\n",
    "    birth = string[len(string)-10::]\n",
    "\n",
    "    #Формирование логина\n",
    "    login_base = translit(surname, 'ru',  reversed=True).lower()\n",
    "    login_init1 =  translit(name[0], 'ru',  reversed=True).lower()\n",
    "    login_init2 =  translit(patronymic[0], 'ru',  reversed=True).lower()\n",
    "    login = login_base + '-' + login_init1 + login_init2\n",
    "\n",
    "    #Формирование пароля\n",
    "    ##random_num = random.randint(1000,9999)\n",
    "    ##random_symbol = random.choice(symbols)\n",
    "    ##password = login_base.capitalize() + str(random_num) + random_symbol\n",
    "    password = 'Zaq123456&'\n",
    "\n",
    "    #Заполнение формы\n",
    "    window = pyautogui.getWindowsWithTitle(\"Active Directory - пользователи и компьютеры\")\n",
    "    window[0].activate()\n",
    "    if k == 0:\n",
    "        key.cycle(10, 'left')\n",
    "        pyautogui.press('right')\n",
    "        key.cycle(2, 'down')\n",
    "        pyautogui.press('right')\n",
    "        key.cycle(17, 'down')\n",
    "        pyautogui.press('right')\n",
    "        key.cycle(9, 'down')\n",
    "        pyautogui.hotkey('shift', 'f10')\n",
    "        key.cycle(4, 'down')\n",
    "        key.cycle(2, 'enter')\n",
    "    window = pyautogui.getWindowsWithTitle(\"Новый объект - Пользователь\")\n",
    "    window[0].activate()\n"
   ],
   "metadata": {
    "collapsed": false
   }
  },
  {
   "cell_type": "code",
   "execution_count": 19,
   "outputs": [],
   "source": [
    "window = pyautogui.getWindowsWithTitle(\"Новый объект - Пользователь\")\n",
    "window[0].activate()"
   ],
   "metadata": {
    "collapsed": false
   }
  },
  {
   "cell_type": "code",
   "execution_count": null,
   "outputs": [],
   "source": [],
   "metadata": {
    "collapsed": false
   }
  }
 ],
 "metadata": {
  "kernelspec": {
   "display_name": "Python 3",
   "language": "python",
   "name": "python3"
  },
  "language_info": {
   "codemirror_mode": {
    "name": "ipython",
    "version": 2
   },
   "file_extension": ".py",
   "mimetype": "text/x-python",
   "name": "python",
   "nbconvert_exporter": "python",
   "pygments_lexer": "ipython2",
   "version": "2.7.6"
  }
 },
 "nbformat": 4,
 "nbformat_minor": 0
}
