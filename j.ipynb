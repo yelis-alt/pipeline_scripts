{
 "cells": [
  {
   "cell_type": "code",
   "execution_count": 208,
   "metadata": {
    "collapsed": true
   },
   "outputs": [],
   "source": [
    "#Библиотеки\n",
    "import pandas as pd\n",
    "import numpy as np\n",
    "import warnings\n",
    "import json\n",
    "import os\n",
    "warnings.filterwarnings('ignore')\n",
    "\n",
    "#Открытие json\n",
    "with open('./resources/data_.json') as fp:\n",
    "    data = json.load(fp)"
   ]
  },
  {
   "cell_type": "code",
   "execution_count": 261,
   "outputs": [
    {
     "data": {
      "text/plain": "                          TITLE_0          TITLE_1  \\\n0    УВВ-08-4286-22 от 30.12.2022  Задачи договора   \n1    УВВ-08-4286-22 от 30.12.2022  Задачи договора   \n2    УВВ-08-4286-22 от 30.12.2022  Задачи договора   \n3    УВВ-08-4286-22 от 30.12.2022  Задачи договора   \n4    УВВ-08-4286-22 от 30.12.2022  Задачи договора   \n..                            ...              ...   \n407                                                  \n408                                                  \n409                                                  \n410                                                  \n411                                                  \n\n                                               TITLE_2  \\\n0    001 Заключение договора на работы по модерниза...   \n1    001 Заключение договора на работы по модерниза...   \n2    001 Заключение договора на работы по модерниза...   \n3    001 Заключение договора на работы по модерниза...   \n4    001 Заключение договора на работы по модерниза...   \n..                                                 ...   \n407                                                      \n408                                                      \n409                                                      \n410                                                      \n411                                                      \n\n                                               TITLE_3  \\\n0                               001.01 Согласование ТЗ   \n1                                001.02 Проведение ЦЗК   \n2    001.03 Согласование служебной записки на прове...   \n3               001.04 Подготовка документов к закупке   \n4                                       001.05 Закупка   \n..                                                 ...   \n407                                                      \n408                                                      \n409                                                      \n410                                                      \n411                                                      \n\n                                      TITLE_4 TITLE_5 BEGIN_DATE_FORMAT_1  \\\n0                                                                           \n1                                                                           \n2                                                                           \n3                                                                           \n4                                                                           \n..                                        ...     ...                 ...   \n407                            005.06 Закупка                               \n408        005.07 Рассмотрение заявок закупки                               \n409                         005.08 Переторжка                               \n410          005.09 Подведение итогов закупки                               \n411  005.10 Подписание договора с победителем                               \n\n    CLOSE_DATE_FORMAT_1 RESPONSOBLE_FIO_4                STATUS_4  ...  \\\n0                                                                  ...   \n1                                                                  ...   \n2                                                                  ...   \n3                                                                  ...   \n4                                                                  ...   \n..                  ...               ...                     ...  ...   \n407                      Оксана Цымбалист  Новая (не просмотрена)  ...   \n408                      Оксана Цымбалист  Новая (не просмотрена)  ...   \n409                      Оксана Цымбалист  Новая (не просмотрена)  ...   \n410                      Оксана Цымбалист  Новая (не просмотрена)  ...   \n411                      Оксана Цымбалист  Новая (не просмотрена)  ...   \n\n    BEGIN_DATE_FORMAT_0                STATUS_3 RESPONSOBLE_FIO_2  \\\n0            02.11.2022              Просрочена  Оксана Цымбалист   \n1            02.11.2022              Просрочена  Оксана Цымбалист   \n2            02.11.2022              Просрочена  Оксана Цымбалист   \n3            02.11.2022               Завершена  Оксана Цымбалист   \n4            02.11.2022  Новая (не просмотрена)  Оксана Цымбалист   \n..                  ...                     ...               ...   \n407                                                                 \n408                                                                 \n409                                                                 \n410                                                                 \n411                                                                 \n\n    RESPONSOBLE_FIO_3  STATUS_0 DURATION_3 RESPONSOBLE_FIO_1 DURATION_1  \\\n0    Оксана Цымбалист  В работе      2 дня                                \n1    Оксана Цымбалист  В работе      2 дня                                \n2    Оксана Цымбалист  В работе     5 дней                                \n3    Оксана Цымбалист  В работе     5 дней                                \n4    Оксана Цымбалист  В работе    15 дней                                \n..                ...       ...        ...               ...        ...   \n407                                                                       \n408                                                                       \n409                                                                       \n410                                                                       \n411                                                                       \n\n    STATUS_5 CLOSE_DATE_FORMAT_0  \n0                     31.01.2024  \n1                     31.01.2024  \n2                     31.01.2024  \n3                     31.01.2024  \n4                     31.01.2024  \n..       ...                 ...  \n407                               \n408                               \n409                               \n410                               \n411                               \n\n[945 rows x 36 columns]",
      "text/html": "<div>\n<style scoped>\n    .dataframe tbody tr th:only-of-type {\n        vertical-align: middle;\n    }\n\n    .dataframe tbody tr th {\n        vertical-align: top;\n    }\n\n    .dataframe thead th {\n        text-align: right;\n    }\n</style>\n<table border=\"1\" class=\"dataframe\">\n  <thead>\n    <tr style=\"text-align: right;\">\n      <th></th>\n      <th>TITLE_0</th>\n      <th>TITLE_1</th>\n      <th>TITLE_2</th>\n      <th>TITLE_3</th>\n      <th>TITLE_4</th>\n      <th>TITLE_5</th>\n      <th>BEGIN_DATE_FORMAT_1</th>\n      <th>CLOSE_DATE_FORMAT_1</th>\n      <th>RESPONSOBLE_FIO_4</th>\n      <th>STATUS_4</th>\n      <th>...</th>\n      <th>BEGIN_DATE_FORMAT_0</th>\n      <th>STATUS_3</th>\n      <th>RESPONSOBLE_FIO_2</th>\n      <th>RESPONSOBLE_FIO_3</th>\n      <th>STATUS_0</th>\n      <th>DURATION_3</th>\n      <th>RESPONSOBLE_FIO_1</th>\n      <th>DURATION_1</th>\n      <th>STATUS_5</th>\n      <th>CLOSE_DATE_FORMAT_0</th>\n    </tr>\n  </thead>\n  <tbody>\n    <tr>\n      <th>0</th>\n      <td>УВВ-08-4286-22 от 30.12.2022</td>\n      <td>Задачи договора</td>\n      <td>001 Заключение договора на работы по модерниза...</td>\n      <td>001.01 Согласование ТЗ</td>\n      <td></td>\n      <td></td>\n      <td></td>\n      <td></td>\n      <td></td>\n      <td></td>\n      <td>...</td>\n      <td>02.11.2022</td>\n      <td>Просрочена</td>\n      <td>Оксана Цымбалист</td>\n      <td>Оксана Цымбалист</td>\n      <td>В работе</td>\n      <td>2 дня</td>\n      <td></td>\n      <td></td>\n      <td></td>\n      <td>31.01.2024</td>\n    </tr>\n    <tr>\n      <th>1</th>\n      <td>УВВ-08-4286-22 от 30.12.2022</td>\n      <td>Задачи договора</td>\n      <td>001 Заключение договора на работы по модерниза...</td>\n      <td>001.02 Проведение ЦЗК</td>\n      <td></td>\n      <td></td>\n      <td></td>\n      <td></td>\n      <td></td>\n      <td></td>\n      <td>...</td>\n      <td>02.11.2022</td>\n      <td>Просрочена</td>\n      <td>Оксана Цымбалист</td>\n      <td>Оксана Цымбалист</td>\n      <td>В работе</td>\n      <td>2 дня</td>\n      <td></td>\n      <td></td>\n      <td></td>\n      <td>31.01.2024</td>\n    </tr>\n    <tr>\n      <th>2</th>\n      <td>УВВ-08-4286-22 от 30.12.2022</td>\n      <td>Задачи договора</td>\n      <td>001 Заключение договора на работы по модерниза...</td>\n      <td>001.03 Согласование служебной записки на прове...</td>\n      <td></td>\n      <td></td>\n      <td></td>\n      <td></td>\n      <td></td>\n      <td></td>\n      <td>...</td>\n      <td>02.11.2022</td>\n      <td>Просрочена</td>\n      <td>Оксана Цымбалист</td>\n      <td>Оксана Цымбалист</td>\n      <td>В работе</td>\n      <td>5 дней</td>\n      <td></td>\n      <td></td>\n      <td></td>\n      <td>31.01.2024</td>\n    </tr>\n    <tr>\n      <th>3</th>\n      <td>УВВ-08-4286-22 от 30.12.2022</td>\n      <td>Задачи договора</td>\n      <td>001 Заключение договора на работы по модерниза...</td>\n      <td>001.04 Подготовка документов к закупке</td>\n      <td></td>\n      <td></td>\n      <td></td>\n      <td></td>\n      <td></td>\n      <td></td>\n      <td>...</td>\n      <td>02.11.2022</td>\n      <td>Завершена</td>\n      <td>Оксана Цымбалист</td>\n      <td>Оксана Цымбалист</td>\n      <td>В работе</td>\n      <td>5 дней</td>\n      <td></td>\n      <td></td>\n      <td></td>\n      <td>31.01.2024</td>\n    </tr>\n    <tr>\n      <th>4</th>\n      <td>УВВ-08-4286-22 от 30.12.2022</td>\n      <td>Задачи договора</td>\n      <td>001 Заключение договора на работы по модерниза...</td>\n      <td>001.05 Закупка</td>\n      <td></td>\n      <td></td>\n      <td></td>\n      <td></td>\n      <td></td>\n      <td></td>\n      <td>...</td>\n      <td>02.11.2022</td>\n      <td>Новая (не просмотрена)</td>\n      <td>Оксана Цымбалист</td>\n      <td>Оксана Цымбалист</td>\n      <td>В работе</td>\n      <td>15 дней</td>\n      <td></td>\n      <td></td>\n      <td></td>\n      <td>31.01.2024</td>\n    </tr>\n    <tr>\n      <th>...</th>\n      <td>...</td>\n      <td>...</td>\n      <td>...</td>\n      <td>...</td>\n      <td>...</td>\n      <td>...</td>\n      <td>...</td>\n      <td>...</td>\n      <td>...</td>\n      <td>...</td>\n      <td>...</td>\n      <td>...</td>\n      <td>...</td>\n      <td>...</td>\n      <td>...</td>\n      <td>...</td>\n      <td>...</td>\n      <td>...</td>\n      <td>...</td>\n      <td>...</td>\n      <td>...</td>\n    </tr>\n    <tr>\n      <th>407</th>\n      <td></td>\n      <td></td>\n      <td></td>\n      <td></td>\n      <td>005.06 Закупка</td>\n      <td></td>\n      <td></td>\n      <td></td>\n      <td>Оксана Цымбалист</td>\n      <td>Новая (не просмотрена)</td>\n      <td>...</td>\n      <td></td>\n      <td></td>\n      <td></td>\n      <td></td>\n      <td></td>\n      <td></td>\n      <td></td>\n      <td></td>\n      <td></td>\n      <td></td>\n    </tr>\n    <tr>\n      <th>408</th>\n      <td></td>\n      <td></td>\n      <td></td>\n      <td></td>\n      <td>005.07 Рассмотрение заявок закупки</td>\n      <td></td>\n      <td></td>\n      <td></td>\n      <td>Оксана Цымбалист</td>\n      <td>Новая (не просмотрена)</td>\n      <td>...</td>\n      <td></td>\n      <td></td>\n      <td></td>\n      <td></td>\n      <td></td>\n      <td></td>\n      <td></td>\n      <td></td>\n      <td></td>\n      <td></td>\n    </tr>\n    <tr>\n      <th>409</th>\n      <td></td>\n      <td></td>\n      <td></td>\n      <td></td>\n      <td>005.08 Переторжка</td>\n      <td></td>\n      <td></td>\n      <td></td>\n      <td>Оксана Цымбалист</td>\n      <td>Новая (не просмотрена)</td>\n      <td>...</td>\n      <td></td>\n      <td></td>\n      <td></td>\n      <td></td>\n      <td></td>\n      <td></td>\n      <td></td>\n      <td></td>\n      <td></td>\n      <td></td>\n    </tr>\n    <tr>\n      <th>410</th>\n      <td></td>\n      <td></td>\n      <td></td>\n      <td></td>\n      <td>005.09 Подведение итогов закупки</td>\n      <td></td>\n      <td></td>\n      <td></td>\n      <td>Оксана Цымбалист</td>\n      <td>Новая (не просмотрена)</td>\n      <td>...</td>\n      <td></td>\n      <td></td>\n      <td></td>\n      <td></td>\n      <td></td>\n      <td></td>\n      <td></td>\n      <td></td>\n      <td></td>\n      <td></td>\n    </tr>\n    <tr>\n      <th>411</th>\n      <td></td>\n      <td></td>\n      <td></td>\n      <td></td>\n      <td>005.10 Подписание договора с победителем</td>\n      <td></td>\n      <td></td>\n      <td></td>\n      <td>Оксана Цымбалист</td>\n      <td>Новая (не просмотрена)</td>\n      <td>...</td>\n      <td></td>\n      <td></td>\n      <td></td>\n      <td></td>\n      <td></td>\n      <td></td>\n      <td></td>\n      <td></td>\n      <td></td>\n      <td></td>\n    </tr>\n  </tbody>\n</table>\n<p>945 rows × 36 columns</p>\n</div>"
     },
     "execution_count": 261,
     "metadata": {},
     "output_type": "execute_result"
    }
   ],
   "source": [
    "aggr = 'ITEMS' #название агрегирующего поля\n",
    "task = 'TITLE' #поле с названием процесса\n",
    "n_levels = 5 #число уровней агрегации\n",
    "select = {'STATUS': 'Статус', #поля для отбора с переводом\n",
    "          'DURATION': 'Длительность',\n",
    "          'BEGIN_DATE_FORMAT': 'Начало',\n",
    "          'CLOSE_DATE_FORMAT': 'Окончание',\n",
    "          'RESPONSOBLE_FIO': 'Ответственный'\n",
    "         }\n",
    "lvl = 0\n",
    "fields_original = [task] + list(select.keys()) + [aggr]\n",
    "tab = pd.json_normalize(data,max_level=1)[fields_original]\n",
    "col_index = [name + f'_{lvl}' for name in fields_original]\n",
    "fields = col_index + fields_original\n",
    "tab.columns = col_index\n",
    "\n",
    "#Изъятие остальных уровней\n",
    "for lvl in range(n_levels):\n",
    "    tab = tab.explode(f'{aggr}_{lvl}', ignore_index=True)\n",
    "    tab = pd.concat([tab, tab[f'{aggr}_{lvl}'].apply(pd.Series)], axis=1)\n",
    "    if n_levels - lvl == 1:\n",
    "        fields.remove(aggr)\n",
    "        fields_original.remove(aggr)\n",
    "    tab = tab[fields]\n",
    "    col_index = [name + f'_{lvl+1}' for name in fields_original]\n",
    "    cols = fields[:-len(fields_original)] + col_index\n",
    "    tab.columns = cols\n",
    "    fields = col_index + fields\n",
    "\n",
    "#Упорядочивание столбцов\n",
    "col_aggr = [x for x in list(tab.columns) if x[:-2]==aggr] #удаление агрегирующего столбца\n",
    "tab = tab.drop(col_aggr, axis=1)\n",
    "\n",
    "col_task = [x for x in list(tab.columns) if x[:-2]==task] #расположение задач в порядке возрастания уровня\n",
    "col_task.sort()\n",
    "exclude = list(set(list(tab.columns)) - set(col_task))\n",
    "tab = tab[col_task + exclude]\n",
    "\n",
    "#Добавление дополнительных агрегаций\n",
    "for n in range(n_levels):\n",
    "    tab_add = tab.copy()\n",
    "    for col in list(tab_add.columns):\n",
    "        if int(col[-1])>n:\n",
    "            tab_add[col] = np.nan\n",
    "    tab = pd.concat([tab, tab_add], axis=0)\n",
    "tab = tab.drop_duplicates().replace(np.nan, ' ')\n",
    "\n",
    "#"
   ],
   "metadata": {
    "collapsed": false
   }
  },
  {
   "cell_type": "code",
   "execution_count": null,
   "outputs": [],
   "source": [
    "#Добавление отступов\n",
    "expands = list(pivot.columns)[:(pos+1)]\n",
    "for k, col in enumerate(expands):\n",
    "    pivot[col] = np.where(pivot[col] == ' ',\n",
    "                                        ' ',\n",
    "                                        '__'*k + pivot[col].astype(str))\n",
    "\n",
    "#Формирование столбцов с данными:\n",
    "fields_active = fields_original[1:-1]\n",
    "for col in fields_active:\n",
    "    for n in range(n_levels+1):\n",
    "        pivot[col] = np.where(pivot[f'{task}_{n}'] != '',\n",
    "                            pivot[f'{col}_{n}'],\n",
    "                            '')\n",
    "pivot = pivot[col_task + fields_active].replace(np.nan, ' ')\n",
    "pivot.columns = [x.replace(f'{task}_', '') for x in list(pivot.columns)]\n",
    "pivot.rename(columns = select, inplace=True)\n",
    "pivot"
   ],
   "metadata": {
    "collapsed": false
   }
  }
 ],
 "metadata": {
  "kernelspec": {
   "display_name": "Python 3",
   "language": "python",
   "name": "python3"
  },
  "language_info": {
   "codemirror_mode": {
    "name": "ipython",
    "version": 2
   },
   "file_extension": ".py",
   "mimetype": "text/x-python",
   "name": "python",
   "nbconvert_exporter": "python",
   "pygments_lexer": "ipython2",
   "version": "2.7.6"
  }
 },
 "nbformat": 4,
 "nbformat_minor": 0
}
